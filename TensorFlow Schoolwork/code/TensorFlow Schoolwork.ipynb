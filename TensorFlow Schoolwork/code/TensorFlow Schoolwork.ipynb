{
 "cells": [
  {
   "cell_type": "markdown",
   "metadata": {},
   "source": [
    "姓名：赵永权<br>\n",
    "学号：2016011715<br>\n",
    "学院：软件学院<br>\n",
    "专业：软件工程<br>\n",
    "\n",
    "实训作业二：TensorFlow Schoolwork"
   ]
  },
  {
   "cell_type": "code",
   "execution_count": 24,
   "metadata": {},
   "outputs": [],
   "source": [
    "# 导入必要的模型包\n",
    "import tensorflow as tf\n",
    "import numpy as np\n",
    "import matplotlib.pyplot as plt\n",
    "%matplotlib inline"
   ]
  },
  {
   "cell_type": "code",
   "execution_count": 25,
   "metadata": {
    "collapsed": true
   },
   "outputs": [],
   "source": [
    "# 加载鸢尾花数据集\n",
    "from sklearn.datasets import load_iris\n",
    "iris = load_iris()\n",
    "data = iris.data\n",
    "label = iris.target\n",
    "feature_names = iris.feature_names"
   ]
  },
  {
   "cell_type": "code",
   "execution_count": 26,
   "metadata": {
    "collapsed": true
   },
   "outputs": [],
   "source": [
    "# 将鸢尾花数据集划分成训练集和验证集\n",
    "from sklearn.model_selection import train_test_split\n",
    "X_train, X_test, y_train, y_test = train_test_split(data,label,\n",
    "                                                    test_size=0.2,shuffle=True,random_state=6)"
   ]
  },
  {
   "cell_type": "code",
   "execution_count": 28,
   "metadata": {},
   "outputs": [
    {
     "data": {
      "image/png": "[encoded data removed]",
      "text/plain": [
       "<matplotlib.figure.Figure at 0x1d472c31ef0>"
      ]
     },
     "metadata": {},
     "output_type": "display_data"
    }
   ],
   "source": [
    "# 构建模型，也就是计算输入测试样本和所有训练样本之间的距离\n",
    "# x为训练集的占位符，ｘ_为一个验证样本的占位符\n",
    "x = tf.placeholder(tf.float32, shape=[None, 4])\n",
    "x_ = tf.placeholder(tf.float32, shape=[4])\n",
    "dist = tf.sqrt(tf.reduce_sum(tf.abs(tf.add(x, tf.negative(x_))), 1))\n",
    "# 训练模型\n",
    "def train_knn(K): #超参数K\n",
    "    with tf.Session() as sess:\n",
    "        pred = [] #存放所有测试样本的预测类别\n",
    "        for i in range(len(X_test)):\n",
    "            dist_mat = sess.run(dist, feed_dict={x:X_train, x_:X_test[i]})  \n",
    "            # 将距离矩阵排序后，取出前Ｋ个近邻\n",
    "            knn_idx = np.argsort(dist_mat)[:K]       \n",
    "            # 按这Ｋ个近邻的类别标记进行投票，得出ｘ_的预测标记值y_pred\n",
    "            classes = [0, 0, 0]\n",
    "            for idx in knn_idx:\n",
    "                if(y_train[idx]==0):\n",
    "                    classes[0] += 1\n",
    "                elif(y_train[idx]==1):\n",
    "                    classes[1] += 1\n",
    "                else:\n",
    "                    classes[2] += 1\n",
    "            y_pred = np.argmax(classes)\n",
    "            pred.append(y_pred)\n",
    "        return pred\n",
    "    \n",
    "# 模型评估：根据正确率，选出最优超参数K      \n",
    "def valid_knn():\n",
    "    k_scores = []\n",
    "    k_range = range(1, 31)\n",
    "    for K in k_range:\n",
    "        y_pred = train_knn(K)\n",
    "        y_true = y_test\n",
    "        acc = np.sum(np.equal(y_pred,y_true)) / len(y_true)\n",
    "        k_scores.append(acc)\n",
    "    plt.plot(k_range, k_scores)\n",
    "    plt.xlabel('Value of K for KNN')\n",
    "    plt.ylabel('Accuracy')\n",
    "    plt.savefig(\"acc.png\")\n",
    "# 由下方图像可知最优K值以及在验证集上的最高正确率\n",
    "valid_knn()"
   ]
  },
  {
   "cell_type": "code",
   "execution_count": null,
   "metadata": {
    "collapsed": true
   },
   "outputs": [],
   "source": []
  }
 ],
 "metadata": {
  "kernelspec": {
   "display_name": "Python [conda root]",
   "language": "python",
   "name": "conda-root-py"
  },
  "language_info": {
   "codemirror_mode": {
    "name": "ipython",
    "version": 3
   },
   "file_extension": ".py",
   "mimetype": "text/x-python",
   "name": "python",
   "nbconvert_exporter": "python",
   "pygments_lexer": "ipython3",
   "version": "3.6.2"
  }
 },
 "nbformat": 4,
 "nbformat_minor": 2
}
