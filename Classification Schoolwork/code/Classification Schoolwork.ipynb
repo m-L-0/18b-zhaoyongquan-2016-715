{
 "cells": [
  {
   "cell_type": "code",
   "execution_count": 1,
   "metadata": {},
   "outputs": [],
   "source": [
    "#导入需要的python模块\n",
    "import scipy.io as sio\n",
    "import numpy as np\n",
    "import os\n",
    "import re"
   ]
  },
  {
   "cell_type": "code",
   "execution_count": 7,
   "metadata": {},
   "outputs": [],
   "source": [
    "# 加载数据集及其类别标签\n",
    "path = '../dataset/train/'\n",
    "\n",
    "data = np.array([])\n",
    "\n",
    "label = []\n",
    "\n",
    "for file in os.listdir(path):\n",
    "    key = re.sub('.mat',\"\",file)\n",
    "    y = re.sub(\"\\D\",\"\",file)\n",
    "    a = sio.loadmat(path+file)[key]\n",
    "    class_num = a.shape[0]\n",
    "    for _ in range(class_num):\n",
    "        label.append(y)\n",
    "    data = np.append(data,a)\n",
    "    \n",
    "data = data.reshape((-1,200))    \n",
    "label = np.array(label,dtype=np.int32)"
   ]
  },
  {
   "cell_type": "code",
   "execution_count": 8,
   "metadata": {},
   "outputs": [
    {
     "data": {
      "text/plain": [
       "array([[3711., 4242., 4408., ..., 1064., 1019., 1023.],\n",
       "       [3711., 4245., 4417., ..., 1042., 1023., 1019.],\n",
       "       [3711., 4362., 4594., ..., 1044., 1024., 1009.],\n",
       "       ...,\n",
       "       [3186., 4114., 4213., ..., 1045., 1015., 1009.],\n",
       "       [2586., 4114., 4226., ..., 1023., 1018., 1014.],\n",
       "       [3189., 4118., 4492., ..., 1034., 1014., 1009.]])"
      ]
     },
     "execution_count": 8,
     "metadata": {},
     "output_type": "execute_result"
    }
   ],
   "source": [
    "data"
   ]
  },
  {
   "cell_type": "code",
   "execution_count": 9,
   "metadata": {},
   "outputs": [
    {
     "data": {
      "text/plain": [
       "array([11, 11, 11, ...,  2,  2,  2], dtype=int32)"
      ]
     },
     "execution_count": 9,
     "metadata": {},
     "output_type": "execute_result"
    }
   ],
   "source": [
    "label"
   ]
  },
  {
   "cell_type": "code",
   "execution_count": 10,
   "metadata": {},
   "outputs": [],
   "source": [
    "from sklearn.model_selection import train_test_split\n",
    "from sklearn.preprocessing import StandardScaler\n",
    "from sklearn.svm import SVC\n",
    "from sklearn.metrics import accuracy_score\n",
    "# 划分训练集和验证集\n",
    "X_train,X_valid,y_train,y_valid = train_test_split(\n",
    "        data,label,test_size=0.3,shuffle=True)\n",
    "\n",
    "scaler = StandardScaler() #将数据约束到同一尺度下\n",
    "scaler.fit(X_train)\n",
    "X_train = scaler.transform(X_train)\n",
    "X_valid = scaler.transform(X_valid)"
   ]
  },
  {
   "cell_type": "code",
   "execution_count": 11,
   "metadata": {},
   "outputs": [
    {
     "name": "stdout",
     "output_type": "stream",
     "text": [
      "0.9475457170356112\n"
     ]
    }
   ],
   "source": [
    "svc = SVC(C=10,gamma=0.01,class_weight='balanced')  #构建分类器，设定参数\n",
    "svc.fit(X_train,y_train)\n",
    "y_pred = svc.predict(X_valid)\n",
    "print(accuracy_score(y_valid,y_pred))"
   ]
  },
  {
   "cell_type": "code",
   "execution_count": 13,
   "metadata": {},
   "outputs": [],
   "source": [
    "# 加载测试集\n",
    "test_data = sio.loadmat(\"../dataset/data_test_final.mat\")['data_test_final']\n",
    "test_data = np.array(test_data, dtype=np.float64)"
   ]
  },
  {
   "cell_type": "code",
   "execution_count": 14,
   "metadata": {},
   "outputs": [
    {
     "data": {
      "text/plain": [
       "(2310, 200)"
      ]
     },
     "execution_count": 14,
     "metadata": {},
     "output_type": "execute_result"
    }
   ],
   "source": [
    "test_data.shape"
   ]
  },
  {
   "cell_type": "code",
   "execution_count": 15,
   "metadata": {},
   "outputs": [],
   "source": [
    "x_test = scaler.transform(test_data)"
   ]
  },
  {
   "cell_type": "code",
   "execution_count": 16,
   "metadata": {},
   "outputs": [
    {
     "data": {
      "text/plain": [
       "array([12,  5,  3, ..., 14, 12,  6], dtype=int32)"
      ]
     },
     "execution_count": 16,
     "metadata": {},
     "output_type": "execute_result"
    }
   ],
   "source": [
    "y_test = svc.predict(x_test)\n",
    "y_test"
   ]
  },
  {
   "cell_type": "code",
   "execution_count": 18,
   "metadata": {},
   "outputs": [],
   "source": [
    "import pandas as pd\n",
    "data = pd.DataFrame(y_test)\n",
    "data.to_csv(\"../dataset/test_labels.csv\")"
   ]
  },
  {
   "cell_type": "code",
   "execution_count": null,
   "metadata": {},
   "outputs": [],
   "source": []
  }
 ],
 "metadata": {
  "kernelspec": {
   "display_name": "Python 3",
   "language": "python",
   "name": "python3"
  },
  "language_info": {
   "codemirror_mode": {
    "name": "ipython",
    "version": 3
   },
   "file_extension": ".py",
   "mimetype": "text/x-python",
   "name": "python",
   "nbconvert_exporter": "python",
   "pygments_lexer": "ipython3",
   "version": "3.7.0"
  }
 },
 "nbformat": 4,
 "nbformat_minor": 2
}
